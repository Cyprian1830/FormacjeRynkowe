{
 "cells": [
  {
   "cell_type": "code",
   "execution_count": 3,
   "id": "41f0664d-796b-4b21-a0ca-2339335b25e2",
   "metadata": {
    "tags": []
   },
   "outputs": [],
   "source": [
    "from selenium import webdriver\n",
    "from selenium.webdriver.common.by import By\n",
    "from selenium.webdriver.chrome.service import Service\n",
    "import time\n",
    "import pandas as pd"
   ]
  },
  {
   "cell_type": "code",
   "execution_count": 51,
   "id": "beb7f3f7-0fc9-4f18-b894-5f058a247e8f",
   "metadata": {
    "tags": []
   },
   "outputs": [],
   "source": [
    "path = r\"C:\\Users\\jakub\\Downloads\\chromedriver-win64\\chromedriver.exe\"\n",
    "service = Service(path)\n",
    "driver = webdriver.Chrome(service=service)\n",
    "headers = ['Data', 'Otwarcie', 'Max', 'Min', 'Zamknięcie', 'Wolumen', 'Obrót']\n",
    "table_data = []\n",
    "for i in range(1, 127):\n",
    "    if i == 1:\n",
    "        driver.get(\"https://www.biznesradar.pl/notowania-historyczne/ORLEN\")\n",
    "    else:\n",
    "        driver.get(\"https://www.biznesradar.pl/notowania-historyczne/ORLEN,\"+str(i))\n",
    "    time.sleep(5)\n",
    "    table = driver.find_element(By.XPATH, '//table[@class=\"qTableFull\"]')\n",
    "    rows = table.find_elements(By.XPATH, './/tbody//tr')\n",
    "    for row in rows:\n",
    "        cells = row.find_elements(By.XPATH, './/td')\n",
    "        table_data.append([cell.text for cell in cells])\n",
    "driver.quit()"
   ]
  },
  {
   "cell_type": "code",
   "execution_count": 62,
   "id": "88ad80d0-afe5-4a03-9532-47256e1c9959",
   "metadata": {
    "tags": []
   },
   "outputs": [],
   "source": [
    "df = pd.DataFrame(table_data, columns=headers)"
   ]
  },
  {
   "cell_type": "code",
   "execution_count": 63,
   "id": "d0719b10-f3cf-4314-86e3-bbb0c2a4c240",
   "metadata": {
    "tags": []
   },
   "outputs": [],
   "source": [
    "df = df.dropna()"
   ]
  },
  {
   "cell_type": "code",
   "execution_count": 8,
   "id": "f555ad7f-ef64-45a0-bc14-552552026ee0",
   "metadata": {
    "tags": []
   },
   "outputs": [],
   "source": [
    "df = df.iloc[::-1]"
   ]
  },
  {
   "cell_type": "code",
   "execution_count": 10,
   "id": "f32a0f1c-cdb7-46d4-baaf-c4918fb816ef",
   "metadata": {
    "tags": []
   },
   "outputs": [],
   "source": [
    "df.to_csv('orlen_stock.csv', sep=',', index=False)"
   ]
  }
 ],
 "metadata": {
  "kernelspec": {
   "display_name": "Python 3 (ipykernel)",
   "language": "python",
   "name": "python3"
  },
  "language_info": {
   "codemirror_mode": {
    "name": "ipython",
    "version": 3
   },
   "file_extension": ".py",
   "mimetype": "text/x-python",
   "name": "python",
   "nbconvert_exporter": "python",
   "pygments_lexer": "ipython3",
   "version": "3.11.5"
  }
 },
 "nbformat": 4,
 "nbformat_minor": 5
}
