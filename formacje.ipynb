{
 "cells": [
  {
   "cell_type": "code",
   "execution_count": 16,
   "id": "41f0664d-796b-4b21-a0ca-2339335b25e2",
   "metadata": {
    "tags": []
   },
   "outputs": [],
   "source": [
    "from selenium import webdriver\n",
    "from selenium.webdriver.common.by import By\n",
    "from selenium.webdriver.chrome.service import Service\n",
    "import time\n",
    "import pandas as pd"
   ]
  },
  {
   "cell_type": "code",
   "execution_count": 51,
   "id": "beb7f3f7-0fc9-4f18-b894-5f058a247e8f",
   "metadata": {
    "tags": []
   },
   "outputs": [],
   "source": [
    "path = r\"C:\\Users\\jakub\\Downloads\\chromedriver-win64\\chromedriver.exe\"\n",
    "service = Service(path)\n",
    "driver = webdriver.Chrome(service=service)\n",
    "headers = ['Data', 'Otwarcie', 'Max', 'Min', 'Zamknięcie', 'Wolumen', 'Obrót']\n",
    "table_data = []\n",
    "for i in range(1, 127):\n",
    "    if i == 1:\n",
    "        driver.get(\"https://www.biznesradar.pl/notowania-historyczne/ORLEN\")\n",
    "    else:\n",
    "        driver.get(\"https://www.biznesradar.pl/notowania-historyczne/ORLEN,\"+str(i))\n",
    "    time.sleep(5)\n",
    "    table = driver.find_element(By.XPATH, '//table[@class=\"qTableFull\"]')\n",
    "    rows = table.find_elements(By.XPATH, './/tbody//tr')\n",
    "    for row in rows:\n",
    "        cells = row.find_elements(By.XPATH, './/td')\n",
    "        table_data.append([cell.text for cell in cells])\n",
    "driver.quit()"
   ]
  },
  {
   "cell_type": "code",
   "execution_count": 62,
   "id": "88ad80d0-afe5-4a03-9532-47256e1c9959",
   "metadata": {
    "tags": []
   },
   "outputs": [],
   "source": [
    "df = pd.DataFrame(table_data, columns=headers)"
   ]
  },
  {
   "cell_type": "code",
   "execution_count": 63,
   "id": "d0719b10-f3cf-4314-86e3-bbb0c2a4c240",
   "metadata": {
    "tags": []
   },
   "outputs": [],
   "source": [
    "df = df.dropna()"
   ]
  },
  {
   "cell_type": "code",
   "execution_count": 66,
   "id": "f555ad7f-ef64-45a0-bc14-552552026ee0",
   "metadata": {
    "tags": []
   },
   "outputs": [
    {
     "data": {
      "text/html": [
       "<div>\n",
       "<style scoped>\n",
       "    .dataframe tbody tr th:only-of-type {\n",
       "        vertical-align: middle;\n",
       "    }\n",
       "\n",
       "    .dataframe tbody tr th {\n",
       "        vertical-align: top;\n",
       "    }\n",
       "\n",
       "    .dataframe thead th {\n",
       "        text-align: right;\n",
       "    }\n",
       "</style>\n",
       "<table border=\"1\" class=\"dataframe\">\n",
       "  <thead>\n",
       "    <tr style=\"text-align: right;\">\n",
       "      <th></th>\n",
       "      <th>Data</th>\n",
       "      <th>Otwarcie</th>\n",
       "      <th>Max</th>\n",
       "      <th>Min</th>\n",
       "      <th>Zamknięcie</th>\n",
       "      <th>Wolumen</th>\n",
       "      <th>Obrót</th>\n",
       "    </tr>\n",
       "  </thead>\n",
       "  <tbody>\n",
       "    <tr>\n",
       "      <th>1</th>\n",
       "      <td>09.12.2024</td>\n",
       "      <td>52.45</td>\n",
       "      <td>53.20</td>\n",
       "      <td>52.09</td>\n",
       "      <td>53.08</td>\n",
       "      <td>1 761 869</td>\n",
       "      <td>92 952 576</td>\n",
       "    </tr>\n",
       "    <tr>\n",
       "      <th>2</th>\n",
       "      <td>06.12.2024</td>\n",
       "      <td>52.50</td>\n",
       "      <td>53.15</td>\n",
       "      <td>52.00</td>\n",
       "      <td>52.14</td>\n",
       "      <td>1 446 088</td>\n",
       "      <td>76 014 952</td>\n",
       "    </tr>\n",
       "    <tr>\n",
       "      <th>3</th>\n",
       "      <td>05.12.2024</td>\n",
       "      <td>51.80</td>\n",
       "      <td>52.75</td>\n",
       "      <td>51.31</td>\n",
       "      <td>52.44</td>\n",
       "      <td>1 493 160</td>\n",
       "      <td>77 852 496</td>\n",
       "    </tr>\n",
       "    <tr>\n",
       "      <th>4</th>\n",
       "      <td>04.12.2024</td>\n",
       "      <td>51.58</td>\n",
       "      <td>52.15</td>\n",
       "      <td>51.23</td>\n",
       "      <td>51.66</td>\n",
       "      <td>1 506 019</td>\n",
       "      <td>77 799 504</td>\n",
       "    </tr>\n",
       "    <tr>\n",
       "      <th>5</th>\n",
       "      <td>03.12.2024</td>\n",
       "      <td>51.91</td>\n",
       "      <td>52.00</td>\n",
       "      <td>51.06</td>\n",
       "      <td>51.33</td>\n",
       "      <td>1 995 684</td>\n",
       "      <td>102 505 672</td>\n",
       "    </tr>\n",
       "    <tr>\n",
       "      <th>...</th>\n",
       "      <td>...</td>\n",
       "      <td>...</td>\n",
       "      <td>...</td>\n",
       "      <td>...</td>\n",
       "      <td>...</td>\n",
       "      <td>...</td>\n",
       "      <td>...</td>\n",
       "    </tr>\n",
       "    <tr>\n",
       "      <th>6390</th>\n",
       "      <td>02.12.1999</td>\n",
       "      <td>23.00</td>\n",
       "      <td>23.70</td>\n",
       "      <td>22.90</td>\n",
       "      <td>23.20</td>\n",
       "      <td>2 271 721</td>\n",
       "      <td>105 862 199</td>\n",
       "    </tr>\n",
       "    <tr>\n",
       "      <th>6391</th>\n",
       "      <td>01.12.1999</td>\n",
       "      <td>22.30</td>\n",
       "      <td>22.80</td>\n",
       "      <td>22.10</td>\n",
       "      <td>22.80</td>\n",
       "      <td>2 116 147</td>\n",
       "      <td>95 015 000</td>\n",
       "    </tr>\n",
       "    <tr>\n",
       "      <th>6392</th>\n",
       "      <td>30.11.1999</td>\n",
       "      <td>21.90</td>\n",
       "      <td>22.30</td>\n",
       "      <td>21.90</td>\n",
       "      <td>22.10</td>\n",
       "      <td>2 260 083</td>\n",
       "      <td>99 895 669</td>\n",
       "    </tr>\n",
       "    <tr>\n",
       "      <th>6393</th>\n",
       "      <td>29.11.1999</td>\n",
       "      <td>22.00</td>\n",
       "      <td>22.10</td>\n",
       "      <td>21.60</td>\n",
       "      <td>21.70</td>\n",
       "      <td>3 781 050</td>\n",
       "      <td>165 231 885</td>\n",
       "    </tr>\n",
       "    <tr>\n",
       "      <th>6394</th>\n",
       "      <td>26.11.1999</td>\n",
       "      <td>22.20</td>\n",
       "      <td>22.40</td>\n",
       "      <td>21.40</td>\n",
       "      <td>22.10</td>\n",
       "      <td>10 902 704</td>\n",
       "      <td>477 538 435</td>\n",
       "    </tr>\n",
       "  </tbody>\n",
       "</table>\n",
       "<p>6269 rows × 7 columns</p>\n",
       "</div>"
      ],
      "text/plain": [
       "            Data Otwarcie    Max    Min Zamknięcie     Wolumen        Obrót\n",
       "1     09.12.2024    52.45  53.20  52.09      53.08   1 761 869   92 952 576\n",
       "2     06.12.2024    52.50  53.15  52.00      52.14   1 446 088   76 014 952\n",
       "3     05.12.2024    51.80  52.75  51.31      52.44   1 493 160   77 852 496\n",
       "4     04.12.2024    51.58  52.15  51.23      51.66   1 506 019   77 799 504\n",
       "5     03.12.2024    51.91  52.00  51.06      51.33   1 995 684  102 505 672\n",
       "...          ...      ...    ...    ...        ...         ...          ...\n",
       "6390  02.12.1999    23.00  23.70  22.90      23.20   2 271 721  105 862 199\n",
       "6391  01.12.1999    22.30  22.80  22.10      22.80   2 116 147   95 015 000\n",
       "6392  30.11.1999    21.90  22.30  21.90      22.10   2 260 083   99 895 669\n",
       "6393  29.11.1999    22.00  22.10  21.60      21.70   3 781 050  165 231 885\n",
       "6394  26.11.1999    22.20  22.40  21.40      22.10  10 902 704  477 538 435\n",
       "\n",
       "[6269 rows x 7 columns]"
      ]
     },
     "execution_count": 66,
     "metadata": {},
     "output_type": "execute_result"
    }
   ],
   "source": [
    "df"
   ]
  },
  {
   "cell_type": "code",
   "execution_count": 67,
   "id": "f32a0f1c-cdb7-46d4-baaf-c4918fb816ef",
   "metadata": {
    "tags": []
   },
   "outputs": [],
   "source": [
    "df.to_csv('orlen_stock.csv', sep=',', index=False)"
   ]
  }
 ],
 "metadata": {
  "kernelspec": {
   "display_name": "Python 3 (ipykernel)",
   "language": "python",
   "name": "python3"
  },
  "language_info": {
   "codemirror_mode": {
    "name": "ipython",
    "version": 3
   },
   "file_extension": ".py",
   "mimetype": "text/x-python",
   "name": "python",
   "nbconvert_exporter": "python",
   "pygments_lexer": "ipython3",
   "version": "3.11.5"
  }
 },
 "nbformat": 4,
 "nbformat_minor": 5
}
