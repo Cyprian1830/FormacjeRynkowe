{
 "cells": [
  {
   "cell_type": "code",
   "execution_count": 1,
   "id": "53bd852f-e927-4aad-98a3-288f8359b94d",
   "metadata": {
    "tags": []
   },
   "outputs": [],
   "source": [
    "import pandas as pd"
   ]
  },
  {
   "cell_type": "markdown",
   "id": "22740123-742e-4c1b-87b2-889a10751973",
   "metadata": {},
   "source": [
    "## Importing the dataset"
   ]
  },
  {
   "cell_type": "code",
   "execution_count": 4,
   "id": "e875a603-068f-416e-9838-b3dd425ca913",
   "metadata": {
    "tags": []
   },
   "outputs": [],
   "source": [
    "dataset = pd.read_csv('orlen_stock.csv', sep=',')"
   ]
  },
  {
   "cell_type": "code",
   "execution_count": 27,
   "id": "874ebc12-c5b5-48bb-804d-f41e35b5164f",
   "metadata": {
    "tags": []
   },
   "outputs": [],
   "source": [
    "dataset['Target'] = (dataset['Zamknięcie'].shift(-1) > dataset['Zamknięcie']).astype(int)"
   ]
  },
  {
   "cell_type": "code",
   "execution_count": 9,
   "id": "c0b78177-f8e1-4e96-98d5-03973177b225",
   "metadata": {
    "tags": []
   },
   "outputs": [
    {
     "data": {
      "text/html": [
       "<div>\n",
       "<style scoped>\n",
       "    .dataframe tbody tr th:only-of-type {\n",
       "        vertical-align: middle;\n",
       "    }\n",
       "\n",
       "    .dataframe tbody tr th {\n",
       "        vertical-align: top;\n",
       "    }\n",
       "\n",
       "    .dataframe thead th {\n",
       "        text-align: right;\n",
       "    }\n",
       "</style>\n",
       "<table border=\"1\" class=\"dataframe\">\n",
       "  <thead>\n",
       "    <tr style=\"text-align: right;\">\n",
       "      <th></th>\n",
       "      <th>Data</th>\n",
       "      <th>Otwarcie</th>\n",
       "      <th>Max</th>\n",
       "      <th>Min</th>\n",
       "      <th>Zamknięcie</th>\n",
       "      <th>Wolumen</th>\n",
       "      <th>Obrót</th>\n",
       "      <th>Target</th>\n",
       "    </tr>\n",
       "  </thead>\n",
       "  <tbody>\n",
       "    <tr>\n",
       "      <th>0</th>\n",
       "      <td>09.12.2024</td>\n",
       "      <td>52.45</td>\n",
       "      <td>53.20</td>\n",
       "      <td>52.09</td>\n",
       "      <td>53.08</td>\n",
       "      <td>1 761 869</td>\n",
       "      <td>92 952 576</td>\n",
       "      <td>0</td>\n",
       "    </tr>\n",
       "    <tr>\n",
       "      <th>1</th>\n",
       "      <td>06.12.2024</td>\n",
       "      <td>52.50</td>\n",
       "      <td>53.15</td>\n",
       "      <td>52.00</td>\n",
       "      <td>52.14</td>\n",
       "      <td>1 446 088</td>\n",
       "      <td>76 014 952</td>\n",
       "      <td>1</td>\n",
       "    </tr>\n",
       "    <tr>\n",
       "      <th>2</th>\n",
       "      <td>05.12.2024</td>\n",
       "      <td>51.80</td>\n",
       "      <td>52.75</td>\n",
       "      <td>51.31</td>\n",
       "      <td>52.44</td>\n",
       "      <td>1 493 160</td>\n",
       "      <td>77 852 496</td>\n",
       "      <td>0</td>\n",
       "    </tr>\n",
       "    <tr>\n",
       "      <th>3</th>\n",
       "      <td>04.12.2024</td>\n",
       "      <td>51.58</td>\n",
       "      <td>52.15</td>\n",
       "      <td>51.23</td>\n",
       "      <td>51.66</td>\n",
       "      <td>1 506 019</td>\n",
       "      <td>77 799 504</td>\n",
       "      <td>0</td>\n",
       "    </tr>\n",
       "    <tr>\n",
       "      <th>4</th>\n",
       "      <td>03.12.2024</td>\n",
       "      <td>51.91</td>\n",
       "      <td>52.00</td>\n",
       "      <td>51.06</td>\n",
       "      <td>51.33</td>\n",
       "      <td>1 995 684</td>\n",
       "      <td>102 505 672</td>\n",
       "      <td>1</td>\n",
       "    </tr>\n",
       "    <tr>\n",
       "      <th>...</th>\n",
       "      <td>...</td>\n",
       "      <td>...</td>\n",
       "      <td>...</td>\n",
       "      <td>...</td>\n",
       "      <td>...</td>\n",
       "      <td>...</td>\n",
       "      <td>...</td>\n",
       "      <td>...</td>\n",
       "    </tr>\n",
       "    <tr>\n",
       "      <th>6264</th>\n",
       "      <td>02.12.1999</td>\n",
       "      <td>23.00</td>\n",
       "      <td>23.70</td>\n",
       "      <td>22.90</td>\n",
       "      <td>23.20</td>\n",
       "      <td>2 271 721</td>\n",
       "      <td>105 862 199</td>\n",
       "      <td>0</td>\n",
       "    </tr>\n",
       "    <tr>\n",
       "      <th>6265</th>\n",
       "      <td>01.12.1999</td>\n",
       "      <td>22.30</td>\n",
       "      <td>22.80</td>\n",
       "      <td>22.10</td>\n",
       "      <td>22.80</td>\n",
       "      <td>2 116 147</td>\n",
       "      <td>95 015 000</td>\n",
       "      <td>0</td>\n",
       "    </tr>\n",
       "    <tr>\n",
       "      <th>6266</th>\n",
       "      <td>30.11.1999</td>\n",
       "      <td>21.90</td>\n",
       "      <td>22.30</td>\n",
       "      <td>21.90</td>\n",
       "      <td>22.10</td>\n",
       "      <td>2 260 083</td>\n",
       "      <td>99 895 669</td>\n",
       "      <td>0</td>\n",
       "    </tr>\n",
       "    <tr>\n",
       "      <th>6267</th>\n",
       "      <td>29.11.1999</td>\n",
       "      <td>22.00</td>\n",
       "      <td>22.10</td>\n",
       "      <td>21.60</td>\n",
       "      <td>21.70</td>\n",
       "      <td>3 781 050</td>\n",
       "      <td>165 231 885</td>\n",
       "      <td>1</td>\n",
       "    </tr>\n",
       "    <tr>\n",
       "      <th>6268</th>\n",
       "      <td>26.11.1999</td>\n",
       "      <td>22.20</td>\n",
       "      <td>22.40</td>\n",
       "      <td>21.40</td>\n",
       "      <td>22.10</td>\n",
       "      <td>10 902 704</td>\n",
       "      <td>477 538 435</td>\n",
       "      <td>0</td>\n",
       "    </tr>\n",
       "  </tbody>\n",
       "</table>\n",
       "<p>6269 rows × 8 columns</p>\n",
       "</div>"
      ],
      "text/plain": [
       "            Data  Otwarcie    Max    Min  Zamknięcie     Wolumen        Obrót  \\\n",
       "0     09.12.2024     52.45  53.20  52.09       53.08   1 761 869   92 952 576   \n",
       "1     06.12.2024     52.50  53.15  52.00       52.14   1 446 088   76 014 952   \n",
       "2     05.12.2024     51.80  52.75  51.31       52.44   1 493 160   77 852 496   \n",
       "3     04.12.2024     51.58  52.15  51.23       51.66   1 506 019   77 799 504   \n",
       "4     03.12.2024     51.91  52.00  51.06       51.33   1 995 684  102 505 672   \n",
       "...          ...       ...    ...    ...         ...         ...          ...   \n",
       "6264  02.12.1999     23.00  23.70  22.90       23.20   2 271 721  105 862 199   \n",
       "6265  01.12.1999     22.30  22.80  22.10       22.80   2 116 147   95 015 000   \n",
       "6266  30.11.1999     21.90  22.30  21.90       22.10   2 260 083   99 895 669   \n",
       "6267  29.11.1999     22.00  22.10  21.60       21.70   3 781 050  165 231 885   \n",
       "6268  26.11.1999     22.20  22.40  21.40       22.10  10 902 704  477 538 435   \n",
       "\n",
       "      Target  \n",
       "0          0  \n",
       "1          1  \n",
       "2          0  \n",
       "3          0  \n",
       "4          1  \n",
       "...      ...  \n",
       "6264       0  \n",
       "6265       0  \n",
       "6266       0  \n",
       "6267       1  \n",
       "6268       0  \n",
       "\n",
       "[6269 rows x 8 columns]"
      ]
     },
     "execution_count": 9,
     "metadata": {},
     "output_type": "execute_result"
    }
   ],
   "source": [
    "dataset"
   ]
  },
  {
   "cell_type": "code",
   "execution_count": 10,
   "id": "d008291a-d377-4e15-ad5d-4c5317da39c7",
   "metadata": {
    "tags": []
   },
   "outputs": [],
   "source": [
    "X = dataset.iloc[:, [1,2,3,4]].values\n",
    "y = dataset.iloc[:, -1].values"
   ]
  },
  {
   "cell_type": "markdown",
   "id": "a21baaf5-1243-4760-9b60-c53e5d11c388",
   "metadata": {},
   "source": [
    "## Splitting into the train set and the test set "
   ]
  },
  {
   "cell_type": "code",
   "execution_count": 11,
   "id": "1543a878-3298-4eca-acba-009e6f854533",
   "metadata": {
    "tags": []
   },
   "outputs": [],
   "source": [
    "from sklearn.model_selection import train_test_split\n",
    "X_train, X_test, y_train, y_test = train_test_split(X, y, test_size=0.2, random_state=0)"
   ]
  },
  {
   "cell_type": "markdown",
   "id": "4b81d6d3-41a1-4c62-8101-a4f2445c8933",
   "metadata": {},
   "source": [
    "## Feature scalling"
   ]
  },
  {
   "cell_type": "code",
   "execution_count": 12,
   "id": "446ee0e3-6ecf-4bcf-b4b0-a775d2aac621",
   "metadata": {
    "tags": []
   },
   "outputs": [],
   "source": [
    "from sklearn.preprocessing import StandardScaler\n",
    "sc = StandardScaler()\n",
    "X_train = sc.fit_transform(X_train)\n",
    "X_test = sc.transform(X_test)"
   ]
  },
  {
   "cell_type": "markdown",
   "id": "2b5ac5be-f05d-49c0-b58a-857d1b64b81c",
   "metadata": {},
   "source": [
    "## Training the model"
   ]
  },
  {
   "cell_type": "code",
   "execution_count": 19,
   "id": "89d29ffc-0a61-48df-9619-7c218455039b",
   "metadata": {
    "tags": []
   },
   "outputs": [
    {
     "data": {
      "text/html": [
       "<style>#sk-container-id-3 {color: black;}#sk-container-id-3 pre{padding: 0;}#sk-container-id-3 div.sk-toggleable {background-color: white;}#sk-container-id-3 label.sk-toggleable__label {cursor: pointer;display: block;width: 100%;margin-bottom: 0;padding: 0.3em;box-sizing: border-box;text-align: center;}#sk-container-id-3 label.sk-toggleable__label-arrow:before {content: \"▸\";float: left;margin-right: 0.25em;color: #696969;}#sk-container-id-3 label.sk-toggleable__label-arrow:hover:before {color: black;}#sk-container-id-3 div.sk-estimator:hover label.sk-toggleable__label-arrow:before {color: black;}#sk-container-id-3 div.sk-toggleable__content {max-height: 0;max-width: 0;overflow: hidden;text-align: left;background-color: #f0f8ff;}#sk-container-id-3 div.sk-toggleable__content pre {margin: 0.2em;color: black;border-radius: 0.25em;background-color: #f0f8ff;}#sk-container-id-3 input.sk-toggleable__control:checked~div.sk-toggleable__content {max-height: 200px;max-width: 100%;overflow: auto;}#sk-container-id-3 input.sk-toggleable__control:checked~label.sk-toggleable__label-arrow:before {content: \"▾\";}#sk-container-id-3 div.sk-estimator input.sk-toggleable__control:checked~label.sk-toggleable__label {background-color: #d4ebff;}#sk-container-id-3 div.sk-label input.sk-toggleable__control:checked~label.sk-toggleable__label {background-color: #d4ebff;}#sk-container-id-3 input.sk-hidden--visually {border: 0;clip: rect(1px 1px 1px 1px);clip: rect(1px, 1px, 1px, 1px);height: 1px;margin: -1px;overflow: hidden;padding: 0;position: absolute;width: 1px;}#sk-container-id-3 div.sk-estimator {font-family: monospace;background-color: #f0f8ff;border: 1px dotted black;border-radius: 0.25em;box-sizing: border-box;margin-bottom: 0.5em;}#sk-container-id-3 div.sk-estimator:hover {background-color: #d4ebff;}#sk-container-id-3 div.sk-parallel-item::after {content: \"\";width: 100%;border-bottom: 1px solid gray;flex-grow: 1;}#sk-container-id-3 div.sk-label:hover label.sk-toggleable__label {background-color: #d4ebff;}#sk-container-id-3 div.sk-serial::before {content: \"\";position: absolute;border-left: 1px solid gray;box-sizing: border-box;top: 0;bottom: 0;left: 50%;z-index: 0;}#sk-container-id-3 div.sk-serial {display: flex;flex-direction: column;align-items: center;background-color: white;padding-right: 0.2em;padding-left: 0.2em;position: relative;}#sk-container-id-3 div.sk-item {position: relative;z-index: 1;}#sk-container-id-3 div.sk-parallel {display: flex;align-items: stretch;justify-content: center;background-color: white;position: relative;}#sk-container-id-3 div.sk-item::before, #sk-container-id-3 div.sk-parallel-item::before {content: \"\";position: absolute;border-left: 1px solid gray;box-sizing: border-box;top: 0;bottom: 0;left: 50%;z-index: -1;}#sk-container-id-3 div.sk-parallel-item {display: flex;flex-direction: column;z-index: 1;position: relative;background-color: white;}#sk-container-id-3 div.sk-parallel-item:first-child::after {align-self: flex-end;width: 50%;}#sk-container-id-3 div.sk-parallel-item:last-child::after {align-self: flex-start;width: 50%;}#sk-container-id-3 div.sk-parallel-item:only-child::after {width: 0;}#sk-container-id-3 div.sk-dashed-wrapped {border: 1px dashed gray;margin: 0 0.4em 0.5em 0.4em;box-sizing: border-box;padding-bottom: 0.4em;background-color: white;}#sk-container-id-3 div.sk-label label {font-family: monospace;font-weight: bold;display: inline-block;line-height: 1.2em;}#sk-container-id-3 div.sk-label-container {text-align: center;}#sk-container-id-3 div.sk-container {/* jupyter's `normalize.less` sets `[hidden] { display: none; }` but bootstrap.min.css set `[hidden] { display: none !important; }` so we also need the `!important` here to be able to override the default hidden behavior on the sphinx rendered scikit-learn.org. See: https://github.com/scikit-learn/scikit-learn/issues/21755 */display: inline-block !important;position: relative;}#sk-container-id-3 div.sk-text-repr-fallback {display: none;}</style><div id=\"sk-container-id-3\" class=\"sk-top-container\"><div class=\"sk-text-repr-fallback\"><pre>RandomForestClassifier(criterion=&#x27;entropy&#x27;, n_estimators=10, random_state=0)</pre><b>In a Jupyter environment, please rerun this cell to show the HTML representation or trust the notebook. <br />On GitHub, the HTML representation is unable to render, please try loading this page with nbviewer.org.</b></div><div class=\"sk-container\" hidden><div class=\"sk-item\"><div class=\"sk-estimator sk-toggleable\"><input class=\"sk-toggleable__control sk-hidden--visually\" id=\"sk-estimator-id-3\" type=\"checkbox\" checked><label for=\"sk-estimator-id-3\" class=\"sk-toggleable__label sk-toggleable__label-arrow\">RandomForestClassifier</label><div class=\"sk-toggleable__content\"><pre>RandomForestClassifier(criterion=&#x27;entropy&#x27;, n_estimators=10, random_state=0)</pre></div></div></div></div></div>"
      ],
      "text/plain": [
       "RandomForestClassifier(criterion='entropy', n_estimators=10, random_state=0)"
      ]
     },
     "execution_count": 19,
     "metadata": {},
     "output_type": "execute_result"
    }
   ],
   "source": [
    "from sklearn.ensemble import RandomForestClassifier\n",
    "classifier = RandomForestClassifier(n_estimators = 10, criterion = 'entropy', random_state = 0)\n",
    "classifier.fit(X_train, y_train)"
   ]
  },
  {
   "cell_type": "markdown",
   "id": "c1657cda-246c-40a7-af8c-52b0b1254390",
   "metadata": {},
   "source": [
    "## Predicting test set and evaluation"
   ]
  },
  {
   "cell_type": "code",
   "execution_count": 25,
   "id": "c7d6edb5-151b-4789-afa8-84d6206dc764",
   "metadata": {
    "tags": []
   },
   "outputs": [
    {
     "name": "stdout",
     "output_type": "stream",
     "text": [
      "[[558 101]\n",
      " [149 446]]\n",
      "80.06%\n"
     ]
    }
   ],
   "source": [
    "from sklearn.metrics import confusion_matrix, accuracy_score\n",
    "y_pred = classifier.predict(X_test)\n",
    "cm = confusion_matrix(y_test, y_pred)\n",
    "print(cm)\n",
    "print(f'{accuracy_score(y_test, y_pred)*100:.2f}%')"
   ]
  }
 ],
 "metadata": {
  "kernelspec": {
   "display_name": "Python 3 (ipykernel)",
   "language": "python",
   "name": "python3"
  },
  "language_info": {
   "codemirror_mode": {
    "name": "ipython",
    "version": 3
   },
   "file_extension": ".py",
   "mimetype": "text/x-python",
   "name": "python",
   "nbconvert_exporter": "python",
   "pygments_lexer": "ipython3",
   "version": "3.11.5"
  }
 },
 "nbformat": 4,
 "nbformat_minor": 5
}
